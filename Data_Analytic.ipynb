{
 "cells": [
  {
   "cell_type": "markdown",
   "metadata": {},
   "source": [
    "Import Important Library"
   ]
  },
  {
   "cell_type": "code",
   "execution_count": null,
   "metadata": {},
   "outputs": [],
   "source": [
    "from statistics import *\n",
    "import pandas as pd\n",
    "import numpy as np\n",
    "import seaborn as sns\n",
    "import matplotlib.pyplot as plt\n",
    "import calendar\n",
    "from datetime import datetime\n",
    "import sklearn\n",
    "%matplotlib inline\n",
    "%config InlineBackend.figure_format = 'retina'"
   ]
  },
  {
   "cell_type": "code",
   "execution_count": null,
   "metadata": {},
   "outputs": [],
   "source": [
    "print(f'pandas version: {pd.__version__}')\n",
    "print(f'numpy version: {np.__version__}')\n",
    "print(f'seaborn version: {sns.__version__}')\n",
    "print(f'sklearn version: {sklearn.__version__}')"
   ]
  },
  {
   "cell_type": "code",
   "execution_count": null,
   "metadata": {},
   "outputs": [],
   "source": [
    "#ทำการ Import data เก็บไว้ในตัวแปรที่ชื่อว่า data ซึ่งชื่อเราจะตั้งเป็นอะไรก็ได้ตามใจชอบ เช่น Report เป็นต้น\n",
    "#ทำการอ่านไฟล์นามสกุล csv ด้วยคำสั่ง to_csv (ถ้าเป็น excel ก็ใช้ to_excel) จุดสำคัญคือ ห้ามลืมนามสกุลไฟล์นะ เช่น .csv, .xls, .xlsx\n",
    "data = pd.read_csv(\"C:/Users/vee/Desktop/data.csv\")"
   ]
  },
  {
   "cell_type": "markdown",
   "metadata": {},
   "source": [
    "EDA (Exploratory Data Analysis)"
   ]
  },
  {
   "cell_type": "code",
   "execution_count": null,
   "metadata": {},
   "outputs": [],
   "source": [
    "#เช็คจำนวน Rows และ Columns ของข้อมูล\n",
    "data.shape"
   ]
  },
  {
   "cell_type": "code",
   "execution_count": null,
   "metadata": {},
   "outputs": [],
   "source": [
    "#เช็คตัวอย่างของข้อมูล ซึ่่งคำสั่ง .head() คือดึงตัวอย่างข้อมูลจำนวน 5 ตัวอย่างขึ้นมาดู\n",
    "data.head()"
   ]
  },
  {
   "cell_type": "code",
   "execution_count": null,
   "metadata": {},
   "outputs": [],
   "source": [
    "#จากข้อมูลจะเห็นว่า มี Columns ที่เราไม่ต้องการและไม่เกี่ยวข้องกับข้อมูล เราจะทำการลบโดยใช้คำสั่ง .drop และบอกชื่อ Columns ที่ต้องการลบ\n",
    "data = data.drop(columns=['Unnamed: 0'])"
   ]
  },
  {
   "cell_type": "markdown",
   "metadata": {},
   "source": [
    "การเขียน data = ...... เป็นการบอกว่าให้ทำงานเสร็จแล้วทับข้อมูลไปเลย ถ้าไม่เช่นนั้น ตอนเราทำงานเสร็จ ข้อมูลจะยังเป็นต้นฉบับที่เรา Import มานั่นเอง"
   ]
  },
  {
   "cell_type": "code",
   "execution_count": null,
   "metadata": {},
   "outputs": [],
   "source": [
    "#มาเช็คดูอีกทีว่าเราลบ Columns Unnamed: 0 ไปแล้ว ซึ่งจะพบว่ามันถูกลบไปเรียบร้อยแล้ว\n",
    "data.head(1)"
   ]
  },
  {
   "cell_type": "code",
   "execution_count": null,
   "metadata": {},
   "outputs": [],
   "source": [
    "#คำสั่งนี้คือการลองเรียก Data แบบเต็มๆมาดู โดยด้านล่างจะมีบอกว่า Data มีข้อมูลกี่ Rows และ กี่ Columns\n",
    "data"
   ]
  },
  {
   "cell_type": "code",
   "execution_count": null,
   "metadata": {},
   "outputs": [],
   "source": [
    "#สมมุติถ้าเราอยากเช็คแค่ Columns มามีอะไรบ้าง สามารถทำได้เหมือนกัน\n",
    "list(data.columns)"
   ]
  },
  {
   "cell_type": "code",
   "execution_count": null,
   "metadata": {},
   "outputs": [],
   "source": [
    "#ขั้นตอนนี้เป็นการอธิบายภาพรวมของ Data ของเราในเชิงสถิติ โดยใช้คำสั่ง .describe เช่นค่า min, max, mean, Standard error เป็นต้น \n",
    "#ต่อมา เราใช้คำสั่ง round() เพื่อปัดทศนิยมให้เหลือ 2 จุดจะได้ดูง่ายๆครับ\n",
    "data.describe().round(2)"
   ]
  },
  {
   "cell_type": "code",
   "execution_count": null,
   "metadata": {},
   "outputs": [],
   "source": [
    "# คำสั่ง infoเป็นการดูภาพดูของ data เช่นกัน แต่เราจะเห็นข้อมูลที่อยู่ใน columns นั้นๆด้วย\n",
    "data.info"
   ]
  },
  {
   "cell_type": "markdown",
   "metadata": {},
   "source": [
    "ขั้นตอนต่อมา เป็นขั้นตอนที่สำคัญมาก เราจะมาทำการ Prepare Data ก่อนที่จะทำการวิเคราะห์ข้อมูล"
   ]
  },
  {
   "cell_type": "code",
   "execution_count": null,
   "metadata": {},
   "outputs": [],
   "source": [
    "#ในฐานะของ Business user เราจะรู้จักข้อมูลของเราดีอยู่แล้ว ทำให้รู้ว่าข้อมูลไหนสำคัญ ไม่สำคัญ ซึ่งจากตัวอย่างนี้ \n",
    "\n",
    "#เราจะลบ County ที่เป็น O ออกไป โดยเราจะ Filter ข้อมูลที่ Country เป็น 0 ก่อนโดยใช้คำสั่ง .notnull()\n",
    "data = data[data[\"Country\"].notnull()]\n",
    "\n",
    "#เมื่อลบแล้วเรามาเช็ค Shape กันว่าเหลือเท่าไร ซึ่งจากเดิมมี 1500014 ซึ่งหลังจาก Run แล้วจะเห็นว่าเหลือ 1500008 นั่นเอง \n",
    "data.shape"
   ]
  },
  {
   "cell_type": "code",
   "execution_count": null,
   "metadata": {},
   "outputs": [],
   "source": [
    "#คำสั่ง info หนึ่ง จะเห็นว่าเรายังมีค่า NaN อยู่ที่ Total Revenue, Total Cost และ Total Profit ซึ่งเราจะมาจัดการภายหลัง\n",
    "data.info"
   ]
  },
  {
   "cell_type": "code",
   "execution_count": null,
   "metadata": {},
   "outputs": [],
   "source": [
    "#เราจะมา Rename ที่ต้องการ โดยสามารถใช้คำสั่ง .renanme ตามด้วยชื่อ columns ที่ต้องการได้\n",
    "data = data.rename(columns = {\"Item Type\" : \"Item_Type\",\n",
    "                             \"Order Date\" : \"Order_Date\"\n",
    "                             })"
   ]
  },
  {
   "cell_type": "code",
   "execution_count": null,
   "metadata": {},
   "outputs": [],
   "source": [
    "#มาเช็ครายชื่ออีกทีเพื่อความมั่นใจ จะเห็นว่าเปลี่ยนชื่อแล้ว\n",
    "list(data.columns)"
   ]
  },
  {
   "cell_type": "code",
   "execution_count": null,
   "metadata": {},
   "outputs": [],
   "source": [
    "#ต่อมา เราจะทำการเพิ่ม Columns กัน โดยใช้คำสั่ง [\"ชื่อ column ใหม่ที่ต้องการ\"]\n",
    "#ตัวอย่างนี้ ผมต้องการเพิ่ม columns %matgin เพื่อดูสดส่วน กำไรต่อยอดขายนั่นเอง\n",
    "#ปัดทศนิยมเป็น 2 ตำแหน่งด้วยคำสั่ง round(2)\n",
    "data[\"%margin\"] = ((data[\"Total Profit\"] / data[\"Total Revenue\"]) *100).round(2)"
   ]
  },
  {
   "cell_type": "code",
   "execution_count": null,
   "metadata": {},
   "outputs": [],
   "source": [
    "#มาดูตัวอย่างข้อมูลแค่ 2 Columns โดยใช้คำสั่ง .head(2) จะเห็นว่ามี Columns ใหม่เกิดขึ้นแล้ว\n",
    "data.head(2)"
   ]
  },
  {
   "cell_type": "code",
   "execution_count": null,
   "metadata": {},
   "outputs": [],
   "source": [
    "#ต่อมา ผมจะมาสร้างเงื่อนไข if เช่นผมสมมุติว่า ถ้าเกิด Margin ที่คำนวนได้มากกว่า 30 ให้ใช้คำว่า good ถ้าไม่ใช่ ให้ใช้คำว่า bad สามารถทำได้ดังนี้\n",
    "#เราต้องมาสร้าง Function ในการใช้งานก่อน โดยกำหนดเงื่อนไขดังนี้\n",
    "\n",
    "def if_condition(row):            #สร้าง Function โดยใช้คำสั่ง def และตั้งชื่อว่า if_condition\n",
    "    if row[\"%margin\"] > 30:       #กำหนดเงื่อนไขว่า Row %margin ที่เราสร้าง ถ้า มากกว่า 30\n",
    "        val = \"good\"       #ให้ return ค่าออกมาเป็น good\n",
    "    else:                         #นอกเหนือจากนั้น\n",
    "        val = \"bad\"               #ให้เป็น bad\n",
    "    return val                    #ให้ส่งค่ากลับมา เมื่อมีการเรียกใช้งาน"
   ]
  },
  {
   "cell_type": "code",
   "execution_count": null,
   "metadata": {},
   "outputs": [],
   "source": [
    "#ต่อมา สร้าง Columns ใหม่ที่ชื่อว่า \"dicision\" โดยใช้ function if ที่เราสร้างเมื่อกี้มาทำ\n",
    "data[\"dicision\"] = data.apply(if_condition, axis=1) #ในที่นี้ axis = 1 คือ columns "
   ]
  },
  {
   "cell_type": "code",
   "execution_count": null,
   "metadata": {},
   "outputs": [],
   "source": [
    "#มาดูผลกันครับ จะเห็นว่า มี Columns dicision เพิ่มขึ้นมาแล้ว\n",
    "data.head(2)"
   ]
  },
  {
   "cell_type": "code",
   "execution_count": null,
   "metadata": {},
   "outputs": [],
   "source": [
    "#เราจะมา plot graph scatter plot เพื่อดูการกระจายของข้อมูลกัน โดยจะกำหนดแกน x เป็น 'Total revenue' และแกน y เป็น 'Total'\n",
    "sns.lmplot(x = \"Total Revenue\", y = \"Total Profit\", data = data, ci= None)# CI = confident interval หรือช่วงความเชื่อมั่น\n",
    "#จากกราฟจะเห็นว่ามีdata total profit ตัวหนึ่งกระโดดขึ้นสูงแบบผิดปกติ เราจะมาตรวจสอบมันกันครับ"
   ]
  },
  {
   "cell_type": "code",
   "execution_count": null,
   "metadata": {},
   "outputs": [],
   "source": [
    "#เราจะมาหาสาเหตุกันว่า data ดังกล่าวคืออะไร โดยบอกให้โชว์ตัวที่ max ที่สุดมาซึ่งจะเห็นความผิดปกติคือค่ามากสุดของ Total Profit เพราะนี่มันเยอะมากจนติด e หรือ exponatial ที่มี 0 ถึง 6 ตัว\n",
    "data.loc[data['Total Profit'].idxmax()] "
   ]
  },
  {
   "cell_type": "code",
   "execution_count": null,
   "metadata": {},
   "outputs": [],
   "source": [
    "#เรามาทดสอบว่ายอดเงินของ Total Profit มันสูงได้ขนาดนี้จริงๆ เลยเรียก Top 10 มาดู\n",
    "data.sort_values(\"Total Profit\", ascending = False).head(10)"
   ]
  },
  {
   "cell_type": "code",
   "execution_count": null,
   "metadata": {},
   "outputs": [],
   "source": [
    "# แปลงตัวเลขได้ 8.750000*10^13 \n",
    "print(8.750000*(10**13))\n",
    "#จากการที่เราเรียก top 10 มาดู มีเลขแปลกอยู่ 2 ค่าคือ Top 1,2 เราเลยจะลบมันออกไป"
   ]
  },
  {
   "cell_type": "code",
   "execution_count": null,
   "metadata": {},
   "outputs": [],
   "source": [
    "#เราจะลบ rows ดังกล่าวทิ้งโดยใช้คำสั่ง drop โดยลบจาก index ดังที่โชว์ในภาพ Excel ก่อนหน้านี้\n",
    "data = data.drop(1500005)\n",
    "data = data.drop(1500003)"
   ]
  },
  {
   "cell_type": "code",
   "execution_count": null,
   "metadata": {},
   "outputs": [],
   "source": [
    "#จะเห็นว่าข้อมูลที่ผิดปกติ 2 ตัวดังกล่าวหายไปแล้ว\n",
    "data.sort_values(\"Total Profit\", ascending = False).head(3)"
   ]
  },
  {
   "cell_type": "code",
   "execution_count": null,
   "metadata": {},
   "outputs": [],
   "source": [
    "#ลองเช็คจากบนลงล่างดูบ้าง พบว่าปกติ ไม่มีจุดใดผิดสังเกตุ\n",
    "data.sort_values(\"Total Profit\", ascending = True).head(3)"
   ]
  },
  {
   "cell_type": "code",
   "execution_count": null,
   "metadata": {},
   "outputs": [],
   "source": [
    "#ต่อมาเช็ค Column Total Revenue"
   ]
  },
  {
   "cell_type": "code",
   "execution_count": null,
   "metadata": {},
   "outputs": [],
   "source": [
    "#เรามาทดสอบว่ายอดเงินของ Total Revunue  Top 5 มาดู\n",
    "data.sort_values(\"Total Revenue\", ascending = False).head(10)"
   ]
  },
  {
   "cell_type": "code",
   "execution_count": null,
   "metadata": {},
   "outputs": [],
   "source": [
    "#มาเช็คค่าต่ำสุดดูบ้าง ไม่มีอะไรผิดปกติ\n",
    "data.sort_values(\"Total Revenue\", ascending = True).head(10)"
   ]
  },
  {
   "cell_type": "code",
   "execution_count": null,
   "metadata": {},
   "outputs": [],
   "source": [
    "#ตัวสุดท้าย เราจะมา Check %margin ที่เราคำนวนเมื่อกี้ จะเห็นว่าบรรทัดแรก %margin ไม่ผิดปกติอะไร แต่ยอด Total Revenue - Total Cost มันผิดเพราะ Unit Sold x Unit price หรือ Unit Cost ก็ไม่ถึง \n",
    "data.sort_values(\"%margin\", ascending = False).head(10)"
   ]
  },
  {
   "cell_type": "code",
   "execution_count": null,
   "metadata": {},
   "outputs": [],
   "source": [
    "data.sort_values(\"%margin\", ascending = True).head(10)"
   ]
  },
  {
   "cell_type": "code",
   "execution_count": null,
   "metadata": {},
   "outputs": [],
   "source": [
    "#เราลองว่ามาเรียกข้อมูลจากล่างขึ้นบนดูโดยใช้คำสั่ง .tail จะเห็นว่ามี 5 ตัวล่าง Total Revenue กับ Total Cost ลบกันมันผิด และ Region ก็ Nan เราเลยจะลบให้หมด\n",
    "data.tail(10)"
   ]
  },
  {
   "cell_type": "code",
   "execution_count": null,
   "metadata": {},
   "outputs": [],
   "source": [
    "#จะเห็นว่า มี Missing Value คือพวกค่า NaN, N/A อยู่ที่ Total Revenue, Total Cost, Total profit และ Margin นั่นเอง\n",
    "data.isnull().sum()"
   ]
  },
  {
   "cell_type": "code",
   "execution_count": null,
   "metadata": {},
   "outputs": [],
   "source": [
    "#ตัวอย่างนี้เราจะจัดการค่า Total Revenue ลงไป โดยการคำนวนใหม่ โดย Unit Price x Unit Sold เพราะมันสามารถคำนวนได้ เราจึงไม่ต้องแทนค่านั่นเอง\n",
    "data[\"Total Revenue\"] = (data[\"Units Sold\"] * data[\"Unit Price\"]).round(2) \n",
    "data[\"Total Cost\"] = (data[\"Units Sold\"] * data[\"Unit Cost\"]).round(2)\n",
    "data[\"Total Profit\"] = (data[\"Total Revenue\"] - data[\"Total Cost\"]).round(2)\n",
    "data[\"%margin\"] = ((data[\"Total Profit\"] / data[\"Total Revenue\"]) *100).round(2)"
   ]
  },
  {
   "cell_type": "code",
   "execution_count": null,
   "metadata": {},
   "outputs": [],
   "source": [
    "#เรามาลองเช็คโดยใช้คำสั่ง .info จะเห็นว่าไม่มี Nan แล้ว\n",
    "data.info"
   ]
  },
  {
   "cell_type": "code",
   "execution_count": null,
   "metadata": {},
   "outputs": [],
   "source": [
    "#เช็คอีกครั้งด้วยคำสั่ง .isnull.sum()\n",
    "data.isnull().sum()"
   ]
  },
  {
   "cell_type": "code",
   "execution_count": null,
   "metadata": {},
   "outputs": [],
   "source": [
    "#ต่อมา เราจะมาเพิ่ม Columns ใหม่ชื่อว่า Year เอาไว้วิเคราะห์เชิงลึก โดยแยกตาก Columns ที่ชื่อว่า \"Order_Date\" ดังนี้\n",
    "data['year'] = pd.DatetimeIndex(data['Order_Date']).year"
   ]
  },
  {
   "cell_type": "code",
   "execution_count": null,
   "metadata": {},
   "outputs": [],
   "source": [
    "#ต่อมา เราจะมาเพิ่ม Columns ใหม่ชื่อว่า Month เอาไว้วิเคราะห์เชิงลึก โดยแยกตาก Columns ที่ชื่อว่า \"Order_Date\" ดังนี้\n",
    "data['month'] = pd.DatetimeIndex(data['Order_Date']).month"
   ]
  },
  {
   "cell_type": "code",
   "execution_count": null,
   "metadata": {},
   "outputs": [],
   "source": [
    "#เปลี่ยนชื่อ Month ให้ดูดีขึ้น โดยใช้คำสั่ง .replace ช่วย\n",
    "data = data.replace({\"month\":{\n",
    "    1 : \"1.January\",\n",
    "    2 : \"2.Febuary\",\n",
    "    3 : \"3.March\",\n",
    "    4 : \"4.April\",\n",
    "    5 : \"5.May\",\n",
    "    6 : \"6.June\",\n",
    "    7 : \"7.July\",\n",
    "    8 : \"8.August\",\n",
    "    9 : \"9.September\",\n",
    "    10 : \"10.October\",\n",
    "    11 : \"11.November\",\n",
    "    12 : \"12.December\"\n",
    "}})\n",
    "#จุดสำคัญในการเขียนโปรแกรมคือ \"ระวังการเติมเครื่องหมายไม่ครบ เช่น { และคู่ของมันหาย เป็นต้น\""
   ]
  },
  {
   "cell_type": "code",
   "execution_count": null,
   "metadata": {},
   "outputs": [],
   "source": [
    "#เมื่อ Clean พวก Anomaly data แล้ว เราลอง plot grap มาตรวจสอบอีกรอบ จะเห็นถึงความสัมพันธ์ของ 2 ตัวแปรที่ชัดเจนมากขึ้น\n",
    "sns.lmplot(x = \"Total Revenue\", y = \"Total Profit\", data = data, ci= None)"
   ]
  },
  {
   "cell_type": "code",
   "execution_count": null,
   "metadata": {},
   "outputs": [],
   "source": [
    "#เราจะมาทำการ Sort Data ของเรามาดู โดดยเราจะใช้คำสั่ง .sort.value\n",
    "data.sort_values(\"Total Profit\", ascending = True) # ascending เป็นตัวที่จะกำหนดว่าใช้กรองจากน้อยไปมาก หรือ มากไปน้อย ในที่นี้กำหนดให้เรียง  Total Profit จากน้อยไปมาก จึงใช้ ascending = True"
   ]
  },
  {
   "cell_type": "code",
   "execution_count": null,
   "metadata": {},
   "outputs": [],
   "source": [
    "#ต่อมาลองกำหนดให้เรียง Total Profit จาก มากไปน้อย\n",
    "data.sort_values(\"Total Profit\", ascending = False)"
   ]
  },
  {
   "cell_type": "code",
   "execution_count": null,
   "metadata": {},
   "outputs": [],
   "source": [
    "data.sort_values(\"Total Profit\", ascending = False).head(3)"
   ]
  },
  {
   "cell_type": "code",
   "execution_count": null,
   "metadata": {},
   "outputs": [],
   "source": [
    "#เราจะเริ่มมาทำการวิเคราะห์ข้อมูลกันแล้วนะครับ โดยเริ่มทำการวิเคราะห์ โดยเรียงข้อมูลโดยใช้ %margin ดูจะเห็นว่า Region = Middle East และ Country = Israel สูงที่สุด\n",
    "data.sort_values(\"%margin\", ascending = False)"
   ]
  },
  {
   "cell_type": "code",
   "execution_count": null,
   "metadata": {},
   "outputs": [],
   "source": [
    "#เราจะมา sum ข้อมูลทั้งหมดกันก่อน โดย sum Columns Total Profit\n",
    "Total_Amount = data[\"Total Profit\"].sum().round(2)\n",
    "Total_Amount"
   ]
  },
  {
   "cell_type": "code",
   "execution_count": null,
   "metadata": {},
   "outputs": [],
   "source": [
    "#จากเมื่อกี้ที่เราเห็นว่า Middel East มี Magin สูงสุด มี Profit เท่าไร\n",
    "Middle_East_Amount = data[\"Total Profit\"][data[\"Region\"] == \"Middle East and North Africa\"].sum().round(2)\n",
    "Middle_East_Amount"
   ]
  },
  {
   "cell_type": "code",
   "execution_count": null,
   "metadata": {},
   "outputs": [],
   "source": [
    "#หรือสามารถสร้างเป็นประโยคก็ได้ โดยใช้ \"\" ใส่คำพูด และเชื่อมคำด้วย + เช่น (จาก Code ผมใส่ str ไปเพื่อบอกว่า ข้อมูลตัวนี้คือ string หรือคำพูด เพราะถ้าไม่ใส่มันจะเป็นข้อมูลตัวเลขหรือ Numerical ซึ่งการบวกตัวเลขกับตัวอักษรมันจะ Error)\n",
    "print(\"Middle East มี Total Profit : \" + str(Middle_East_Amount) + \" บาท คิดเป็น : \" + str(((Middle_East_Amount/Total_Amount).round(2))*100)+ \"% ของทั้งหมด\")"
   ]
  },
  {
   "cell_type": "code",
   "execution_count": null,
   "metadata": {},
   "outputs": [],
   "source": [
    "#มาลองวิเคราะห์ตัวอื่นๆกันครับ\n",
    "data[\"Total Profit\"][data[\"Country\"] == \"Iraq\"].sum()"
   ]
  },
  {
   "cell_type": "code",
   "execution_count": null,
   "metadata": {},
   "outputs": [],
   "source": [
    "# .count นี้เป็นการนับจำนวน\n",
    "data[\"Total Profit\"][data[\"Country\"] == \"Iraq\"].count()"
   ]
  },
  {
   "cell_type": "code",
   "execution_count": null,
   "metadata": {},
   "outputs": [],
   "source": [
    "# .max เป็นการดูค่าสูงสุด\n",
    "data[\"Total Profit\"][data[\"Country\"] == \"Iraq\"].max()"
   ]
  },
  {
   "cell_type": "code",
   "execution_count": null,
   "metadata": {},
   "outputs": [],
   "source": [
    "# .min เป็นการดูค่าต่ำสุด\n",
    "data[\"Total Profit\"][data[\"Country\"] == \"Iraq\"].min()"
   ]
  },
  {
   "cell_type": "code",
   "execution_count": null,
   "metadata": {},
   "outputs": [],
   "source": [
    "# .mean เป็นการดูค่าเฉลี่ย\n",
    "data[\"Total Profit\"][data[\"Country\"] == \"Iraq\"].mean()"
   ]
  },
  {
   "cell_type": "code",
   "execution_count": null,
   "metadata": {},
   "outputs": [],
   "source": [
    "#เราสามารถใส่ทศนิยมให้เท่ๆ โดย .apply(lambda x : \"{:,}\".format(x))\n",
    "data[\"Total Profit\"][data[\"Country\"] == \"Iraq\"].apply(lambda x : \"{:,}\".format(x)) #ใส่ทศนิยมให้เท่ๆ"
   ]
  },
  {
   "cell_type": "code",
   "execution_count": null,
   "metadata": {},
   "outputs": [],
   "source": [
    "#Groupby เป็น Function หนึ่งที่ทำงานคล้าย Sumif และจพแสดงออกมาคล้ายๆ Pivot Table ดังตัวอย่างต่อไปนี้\n",
    "data.groupby([\"year\",\"month\",\"Item_Type\",\"Order ID\"]).sum() #ตัวอย่างนี้ ตัวแปรที่ใส่คือหมายความว่า ไม่ต้องเอาไป Sum นั่นเอง"
   ]
  },
  {
   "cell_type": "code",
   "execution_count": null,
   "metadata": {},
   "outputs": [],
   "source": [
    "data.groupby([\"month\"])[\"Total Profit\"].sum().round(2)"
   ]
  },
  {
   "cell_type": "code",
   "execution_count": null,
   "metadata": {},
   "outputs": [],
   "source": [
    "#เราสามารถแยกดูเป็นรายตัวก็ได้ ตัวอย่างนี้ผมต้องการดูแค่ Country และ Item Type โดยไป sum ที่ Total Profit\n",
    "data.groupby([\"Country\",\"Item_Type\"])[\"Total Profit\"].sum()"
   ]
  },
  {
   "cell_type": "code",
   "execution_count": null,
   "metadata": {},
   "outputs": [],
   "source": [
    "#ข้อมูลอาจดูยาก ผมเลยใช้ function round และ ใส่ , มาช่วย\n",
    "data.groupby([\"Country\",\"Item_Type\"])[\"Total Profit\"].sum().round(2).apply(lambda x : \"{:,}\".format(x))"
   ]
  },
  {
   "cell_type": "code",
   "execution_count": null,
   "metadata": {},
   "outputs": [],
   "source": [
    "#ผมสามารถ Export ออกมาเป็น excel ก็ได้นะ โดยใช้คำสั่ง to_excel ดังนี้\n",
    "#1.อันดับแรก ผมตั้งชื่อตัวแปรว่า export ก่อนจะได้ไม่ต้องพิมพ์ Code หมด\n",
    "export = data.groupby([\"Country\",\"Item_Type\"])[\"Total Profit\"].sum().round(2).apply(lambda x : \"{:,}\".format(x))\n",
    "#2.เริ่ม Export โดยใช้ Function to_excel\n",
    "\n",
    "export.to_excel(\"file.xlsx\") #ตั้งชื่อว่า export คือ data ที่จะเอาไปลง Excel ส่วน file คือชื่อที่เราตั้ง"
   ]
  },
  {
   "cell_type": "markdown",
   "metadata": {},
   "source": [
    "Data Visulization"
   ]
  },
  {
   "cell_type": "code",
   "execution_count": null,
   "metadata": {},
   "outputs": [],
   "source": [
    "#หลังจากที่เรา Analysis แล้วเราจะมา Visualization กันโดยใช้กราฟรูปแบบต่างๆ ดังนี้ครับ\n",
    "#1.อันดับแรก เราจะใช้ scatter plot ในการดูการกระจายของข้อมูล และความสัมพันธ์ของข้อมูล ซึ่งจากภาพจะเห็นว่าข้อมูลค่อนข้างสัมพันธ์กัน พูดง่ายๆคือ ถ้า X หรือ Revenue มาก y หรือ Profit จะมากตามนั่นเอง\n",
    "sns.scatterplot(x = \"Total Revenue\", y = \"Total Profit\", data = data)"
   ]
  },
  {
   "cell_type": "code",
   "execution_count": null,
   "metadata": {},
   "outputs": [],
   "source": [
    "#กราฟต่อมา มาลองทำเป็น Line plot\n",
    "#การใช้ Line plot ส่วนใหญ่จะเป็นการใช้เพื่อดูแนวโน้ม ตัวอย่างนี้ผมจะดูแนวโน้มการเคลื่อนไหวของ Profit ในแต่ละเดือน\n",
    "sns.lineplot(x = \"month\", y = \"Total Profit\", data = data)"
   ]
  },
  {
   "cell_type": "code",
   "execution_count": null,
   "metadata": {
    "scrolled": true
   },
   "outputs": [],
   "source": [
    "#กราฟต่อมา มาลองทำเป็น Bar plot\n",
    "#การใช้ Bar plot ส่วนใหญ่จะเป็นการใช้เพื่อดูเพื่อเปรียบเทียบ ตัวอย่างนี้ผมจะดู Profit ในแต่ละเดือนเทียบกัน\n",
    "sns.barplot(x = \"month\", y = \"Total Profit\", data = data)"
   ]
  },
  {
   "cell_type": "code",
   "execution_count": null,
   "metadata": {},
   "outputs": [],
   "source": [
    "sns.barplot(x = \"year\", y = \"%margin\", data = data)"
   ]
  },
  {
   "cell_type": "code",
   "execution_count": null,
   "metadata": {
    "scrolled": true
   },
   "outputs": [],
   "source": [
    "sns.lineplot(x = \"year\", y = \"%margin\", data = data)"
   ]
  },
  {
   "cell_type": "code",
   "execution_count": null,
   "metadata": {},
   "outputs": [],
   "source": [
    "sns.lineplot(x = \"year\", y = \"%margin\", hue =  \"month\",data = data)"
   ]
  },
  {
   "cell_type": "code",
   "execution_count": null,
   "metadata": {},
   "outputs": [],
   "source": [
    "#จากหลายๆกราฟ จะเห็นได้ว่ากราฟมีขนาดค่อนข้างเล็ก ดูยาก เราจะมาปีับกราฟให้ใหญ่ขึ้นโดยใช้ code ดังกล่าว\n",
    "sns.set(rc={'figure.figsize':(10,8.24)}) # เรามาขยายรูปกันเถอะ!!"
   ]
  },
  {
   "cell_type": "code",
   "execution_count": null,
   "metadata": {},
   "outputs": [],
   "source": [
    "#จะเห็นว่าดูใหญ่ขึ้นมาก\n",
    "sns.lineplot(x = \"year\", y = \"%margin\", hue =  \"month\",data = data)"
   ]
  },
  {
   "cell_type": "code",
   "execution_count": null,
   "metadata": {},
   "outputs": [],
   "source": [
    "sns.barplot(x = \"year\", y = \"%margin\", data = data)"
   ]
  },
  {
   "cell_type": "code",
   "execution_count": null,
   "metadata": {},
   "outputs": [],
   "source": [
    "sns.barplot(x = \"year\", y = \"Total Profit\", hue = \"month\",data = data)"
   ]
  },
  {
   "cell_type": "code",
   "execution_count": null,
   "metadata": {},
   "outputs": [],
   "source": [
    "#สร้างตัวแปรที่ชื่อ margin_top10\n",
    "margin_top10 = data.sort_values(\"%margin\", ascending = False).head(10)\n",
    "margin_top10"
   ]
  },
  {
   "cell_type": "code",
   "execution_count": null,
   "metadata": {},
   "outputs": [],
   "source": [
    "#ลอง plot อีกรอบ จะเห็นว่าข้อมูลดูง่ายขึ้นเยอะเลย\n",
    "sns.barplot(x = \"Country\", y = \"Total Revenue\",hue = \"year\",data = margin_top10)"
   ]
  },
  {
   "cell_type": "code",
   "execution_count": null,
   "metadata": {},
   "outputs": [],
   "source": [
    "margin_top10[\"Total Revenue\"]"
   ]
  },
  {
   "cell_type": "code",
   "execution_count": null,
   "metadata": {},
   "outputs": [],
   "source": [
    "#ต่อมา เราจะมาทำ pie chart กัน ขั้นแรกเรากำหนดสีก่อน\n",
    "colors = ['gold', 'yellowgreen', 'lightcoral', 'lightskyblue']"
   ]
  },
  {
   "cell_type": "code",
   "execution_count": null,
   "metadata": {},
   "outputs": [],
   "source": [
    "#Labels คือข้อมูลที่เราจะให้โชว์ คือ \"Region\" นั่นเอง จะเห็นว่า Middle East สัดส่วนเกิน 50%\n",
    "plt.pie(margin_top10[\"Total Revenue\"], labels=margin_top10[\"Region\"], colors=colors, startangle=90,autopct='%1.1f%%')"
   ]
  },
  {
   "cell_type": "markdown",
   "metadata": {},
   "source": [
    "Beginning : Machine Learning For bussiness\n",
    "มาถึงขั้นตอนสุดท้ายแล้ว เรามาทำ Prediction กันด้วย Linear regression กันครับ"
   ]
  },
  {
   "cell_type": "code",
   "execution_count": null,
   "metadata": {},
   "outputs": [],
   "source": [
    "#ก่อนอื่น เราต้อง import library ที่ใช้ในการทำก่อนนะครับ\n",
    "from sklearn.linear_model import LinearRegression\n",
    "from sklearn.metrics import mean_squared_error"
   ]
  },
  {
   "cell_type": "code",
   "execution_count": null,
   "metadata": {},
   "outputs": [],
   "source": [
    "#เช็ค Version\n",
    "print(f'sklern version : {sklearn.__version__}')"
   ]
  },
  {
   "cell_type": "code",
   "execution_count": null,
   "metadata": {},
   "outputs": [],
   "source": [
    "#เราจะมากำหนด Model กันครับ\n",
    "model = LinearRegression(normalize = True, n_jobs = -1)\n",
    "model"
   ]
  },
  {
   "cell_type": "code",
   "execution_count": null,
   "metadata": {},
   "outputs": [],
   "source": [
    "#x เราเรียกว่า dependent y คือ independaent และที่เราใช้ [[]] เพราะจะทำเป็น 2D Array\n",
    "X = data[['Total Revenue','Total Cost']]\n",
    "y = data['%margin'] #หรือ data.%margin ที่ไม่ใช้เพราะมันติด % นั่นเอง"
   ]
  },
  {
   "cell_type": "code",
   "execution_count": null,
   "metadata": {},
   "outputs": [],
   "source": [
    "model.fit(X,y)"
   ]
  },
  {
   "cell_type": "code",
   "execution_count": null,
   "metadata": {},
   "outputs": [],
   "source": [
    "#อันนี้คือค่า R-square คือยังมากยิ่งดี แต่ที่ได้นี่ ค่อนข้างน้อยมาก\n",
    "model.score(X,y)"
   ]
  },
  {
   "cell_type": "code",
   "execution_count": null,
   "metadata": {},
   "outputs": [],
   "source": [
    "model.coef_ #หรือที่เราเรียกว่า slope นั่นเอง"
   ]
  },
  {
   "cell_type": "code",
   "execution_count": null,
   "metadata": {},
   "outputs": [],
   "source": [
    "model.intercept_"
   ]
  },
  {
   "cell_type": "code",
   "execution_count": null,
   "metadata": {},
   "outputs": [],
   "source": [
    "#เขียนสมการทำนายได้ดังนี้ เช่นถ้าอยากทำนาย x = 50000,20000\n",
    "\n",
    "#หรือพูดเป็นภาษาธุรกิจคือ ถ้ามีรายได้ 50,000 ,Cost 20,000 จะได้ค่า %margin จะเป็นเท่าไรนั่นเอง\n",
    "\n",
    "model.intercept_ + (-3.38013701e-05* 50000)+(-4.75858163e-05*20000)"
   ]
  },
  {
   "cell_type": "markdown",
   "metadata": {},
   "source": [
    "จะได้คำตอบออกมาแล้ว แต่การเขียนยาวๆแบบนี้มันค่อนข้างยุ่งยาก sklearn มีตัวช่วย เขียนดังนี้"
   ]
  },
  {
   "cell_type": "code",
   "execution_count": null,
   "metadata": {},
   "outputs": [],
   "source": [
    "model.predict([[50000,20000]])"
   ]
  },
  {
   "cell_type": "code",
   "execution_count": null,
   "metadata": {},
   "outputs": [],
   "source": [
    "#ถ้าอยากทำนาย 2 ตัวแปรล่ะ\n",
    "model.predict([[50000,20000],[70000,60000]])"
   ]
  },
  {
   "cell_type": "code",
   "execution_count": null,
   "metadata": {},
   "outputs": [],
   "source": [
    "#ต่อมา Predict จากข้อมูลกันเลย\n",
    "y_pred = model.predict(data[[\"Total Revenue\",\"Total Cost\"]]) #อันนี้เอา Columns Total มา Predict เลย\n",
    "y_pred"
   ]
  },
  {
   "cell_type": "code",
   "execution_count": null,
   "metadata": {},
   "outputs": [],
   "source": [
    "#เราสร้าง Columns ใหม่ชื่อว่า y_act คือค่า Actual นั่นเอง เพื่อจะเอามาเทียบกับตัว Model ที่เราทำไว้\n",
    "y_act = data[[\"%margin\"]]"
   ]
  },
  {
   "cell_type": "code",
   "execution_count": null,
   "metadata": {},
   "outputs": [],
   "source": [
    "#เช็ค Mean Square error กัน\n",
    "mean_squared_error(y_act, y_pred)"
   ]
  },
  {
   "cell_type": "code",
   "execution_count": null,
   "metadata": {},
   "outputs": [],
   "source": [
    "#เช็ค Root Mean Square error กัน แปลว่า ข้อมูลเรา Error +- ไปถึง9.00 เช่น Actual 10 Model ไปทำนาย 1 หรือ 19 เป็นต้น\n",
    "mean_squared_error(y_act, y_pred) **0.5  "
   ]
  },
  {
   "cell_type": "code",
   "execution_count": null,
   "metadata": {},
   "outputs": [],
   "source": [
    "#เอา Model มาใส่เลย จะได้ดังนี้\n",
    "data[\"model\"] = model.predict(data[[\"Total Revenue\",\"Total Cost\"]])\n",
    "data.head()"
   ]
  },
  {
   "cell_type": "code",
   "execution_count": null,
   "metadata": {},
   "outputs": [],
   "source": [
    "#เราจะเอาตัวอย่างข้อมูล 1000 ตัวอย่างแบบเรียงจากมากไปน้อย\n",
    "margin_top1000_model = data.sort_values(\"%margin\", ascending = False).head(1000)"
   ]
  },
  {
   "cell_type": "code",
   "execution_count": null,
   "metadata": {},
   "outputs": [],
   "source": [
    "# Plot 2 กราฟคือ Model vs Actual ซึ่งสีพาสเทลคือ Actual และ Prediction คือ สีทึบ\n",
    "f, ax = plt.subplots(figsize=(6, 15))\n",
    "#Graph แรก Actual\n",
    "sns.set_color_codes(\"pastel\")\n",
    "sns.barplot(x=\"year\", y=\"%margin\", data=margin_top1000_model,\n",
    "            label=\"Actual\", color=\"r\")\n",
    "\n",
    "#Graph สอง Model ที่ทำนายได้\n",
    "sns.set_color_codes(\"muted\")\n",
    "sns.barplot(x=\"year\", y=\"model\", data=margin_top1000_model,\n",
    "            label=\"Prediction\", color=\"b\")\n",
    "\n",
    "# Add a legend and informative axis label\n",
    "ax.set(ylabel=\"\",\n",
    "       xlabel=\"Actual Vs Prediction\")\n",
    "sns.despine(left=True, bottom=True)"
   ]
  }
 ],
 "metadata": {
  "kernelspec": {
   "display_name": "Python 3",
   "language": "python",
   "name": "python3"
  },
  "language_info": {
   "codemirror_mode": {
    "name": "ipython",
    "version": 3
   },
   "file_extension": ".py",
   "mimetype": "text/x-python",
   "name": "python",
   "nbconvert_exporter": "python",
   "pygments_lexer": "ipython3",
   "version": "3.12.3"
  }
 },
 "nbformat": 4,
 "nbformat_minor": 2
}
